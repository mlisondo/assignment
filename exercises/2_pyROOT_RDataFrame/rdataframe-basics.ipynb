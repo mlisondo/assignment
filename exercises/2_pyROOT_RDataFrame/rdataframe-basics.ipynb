{
 "cells": [
  {
   "cell_type": "markdown",
   "metadata": {},
   "source": [
    "# Exercise: RDataFrame basics"
   ]
  },
  {
   "cell_type": "markdown",
   "metadata": {},
   "source": [
    "The file `../data/example_file.root` contains a `TTree` dataset (called `\"dataset\"`) with two scalar columns `a` and `b`.<br>\n",
    "There is a normal distribution hidden in there, but to display it you have to plot the natural logarithm of `a` only for entries in which `b <= 0.5`.\n",
    "\n",
    "### Useful links\n",
    "\n",
    "- [RDataFrame class reference](https://root.cern/doc/master/classROOT_1_1RDataFrame.html)\n",
    "- [RDataFrame tutorials](https://root.cern.ch/doc/master/group__tutorial__dataframe.html)"
   ]
  },
  {
   "cell_type": "code",
   "execution_count": 2,
   "metadata": {},
   "outputs": [
    {
     "name": "stdout",
     "output_type": "stream",
     "text": [
      "Welcome to JupyROOT 6.30/07\n"
     ]
    }
   ],
   "source": [
    "import ROOT"
   ]
  },
  {
   "cell_type": "code",
   "execution_count": 3,
   "metadata": {},
   "outputs": [],
   "source": [
    "treename = \"dataset\"\n",
    "filename = \"example_file.root\"\n",
    "df = ROOT.RDataFrame(treename, filename)"
   ]
  },
  {
   "cell_type": "code",
   "execution_count": 4,
   "metadata": {},
   "outputs": [
    {
     "data": {
      "text/plain": [
       "vector<string>{ \"a\", \"b\", \"vec1\", \"vec2\" }"
      ]
     },
     "execution_count": 4,
     "metadata": {},
     "output_type": "execute_result"
    }
   ],
   "source": [
    "df.GetColumnNames()"
   ]
  },
  {
   "cell_type": "code",
   "execution_count": 5,
   "metadata": {},
   "outputs": [],
   "source": [
    "df1 = df.Filter(\"b <= 0.5\")\n",
    "df2 = df1.Define(\"c\", \"TMath::Log(a)\")"
   ]
  },
  {
   "cell_type": "code",
   "execution_count": 6,
   "metadata": {},
   "outputs": [
    {
     "name": "stdout",
     "output_type": "stream",
     "text": [
      "****************************************\n",
      "Minimizer is Minuit2 / Migrad\n",
      "Chi2                      =      53.0764\n",
      "NDf                       =           67\n",
      "Edm                       =  7.74747e-08\n",
      "NCalls                    =           59\n",
      "Constant                  =      31.1575   +/-   1.31513     \n",
      "Mean                      =   -0.0793623   +/-   0.0330626   \n",
      "Sigma                     =      0.97143   +/-   0.0278571    \t (limited)\n"
     ]
    },
    {
     "data": {
      "image/png": "[encoded data removed]",
      "text/plain": [
       "<IPython.core.display.Image object>"
      ]
     },
     "metadata": {},
     "output_type": "display_data"
    }
   ],
   "source": [
    "h = df2.Histo1D((\"ln_hist\", \"ln(a) for b <= 0.5\", 100, -4, 4), \"c\")\n",
    "c = ROOT.TCanvas(\"ln_hist\",\"c\")\n",
    "gaus = ROOT.TF1(\"gaus\", \"gaus\", -4, 4)\n",
    "h.Fit(gaus)\n",
    "h.Draw()\n",
    "c.Draw()"
   ]
  }
 ],
 "metadata": {
  "kernelspec": {
   "display_name": "Python 3 (ipykernel)",
   "language": "python",
   "name": "python3"
  },
  "language_info": {
   "codemirror_mode": {
    "name": "ipython",
    "version": 3
   },
   "file_extension": ".py",
   "mimetype": "text/x-python",
   "name": "python",
   "nbconvert_exporter": "python",
   "pygments_lexer": "ipython3",
   "version": "3.9.14"
  }
 },
 "nbformat": 4,
 "nbformat_minor": 4
}
